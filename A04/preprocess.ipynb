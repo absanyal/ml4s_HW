{
 "cells": [
  {
   "cell_type": "code",
   "execution_count": 24,
   "metadata": {},
   "outputs": [],
   "source": [
    "from PIL import Image\n",
    "import matplotlib.pyplot as plt\n",
    "import numpy as np\n",
    "\n",
    "from PIL import ImageEnhance\n",
    "from PIL import ImageOps\n",
    "import matplotlib.patches as patches\n"
   ]
  },
  {
   "cell_type": "code",
   "execution_count": 3,
   "metadata": {},
   "outputs": [],
   "source": [
    "input_folder = 'myMNIST/'\n",
    "\n",
    "digits_raw = []\n",
    "labels = []\n",
    "\n",
    "for i in range(10):\n",
    "    filename = input_folder + str(i) + '.png'\n",
    "    image = Image.open(filename)\n",
    "    image = image.convert(mode = 'L')\n",
    "    digits_raw.append(image)\n",
    "    labels.append(i)"
   ]
  },
  {
   "cell_type": "code",
   "execution_count": 4,
   "metadata": {},
   "outputs": [],
   "source": [
    "digits_centered = []\n",
    "\n",
    "for digit in digits_raw:\n",
    "\n",
    "    # Inver sample, get bbox and display all that stuff.\n",
    "    inv_sample = ImageOps.invert(digit)\n",
    "    bbox = inv_sample.getbbox()\n",
    "    rect = patches.Rectangle(\n",
    "        (bbox[0], bbox[3]), bbox[2]-bbox[0], -bbox[3]+bbox[1]-1,\n",
    "        fill=False, alpha=1, edgecolor='w')\n",
    "\n",
    "    crop = inv_sample.crop(bbox)\n",
    "\n",
    "    new_size = 140\n",
    "    delta_w = new_size - crop.size[0]\n",
    "    delta_h = new_size - crop.size[1]\n",
    "    padding = (delta_w//2, delta_h//2, delta_w-(delta_w//2), delta_h-(delta_h//2))\n",
    "    new_im = ImageOps.expand(crop, padding)\n",
    "    \n",
    "    digits_centered.append(new_im)"
   ]
  },
  {
   "cell_type": "code",
   "execution_count": 5,
   "metadata": {},
   "outputs": [],
   "source": [
    "def normalize(img_in):\n",
    "    img = np.asarray(img_in)\n",
    "    \n",
    "    # normalize\n",
    "    max_val = float(img.max())\n",
    "    #print(max_val)\n",
    "\n",
    "    x_dim, y_dim = img.shape\n",
    "\n",
    "    norm_img = np.zeros_like(img)\n",
    "\n",
    "    for i in range(x_dim):\n",
    "        for j in range(y_dim):\n",
    "            norm_img[i, j] = img[i, j] / max_val\n",
    "    \n",
    "    return norm_img\n",
    "    "
   ]
  },
  {
   "cell_type": "code",
   "execution_count": 6,
   "metadata": {},
   "outputs": [],
   "source": [
    "digits_norm = []\n",
    "\n",
    "for digit in digits_centered:\n",
    "    digits_norm.append(normalize(digit))"
   ]
  },
  {
   "cell_type": "code",
   "execution_count": 7,
   "metadata": {},
   "outputs": [],
   "source": [
    "def downscale(img_source, x0_raw, x1_raw):\n",
    "    x_dim, y_dim = img_source.shape\n",
    "    x0 = np.floor(x0_raw * x_dim*0.9999).astype(int)\n",
    "    x1 = np.floor(x1_raw * y_dim*0.9999).astype(int)\n",
    "    return img_source[x0, x1]"
   ]
  },
  {
   "cell_type": "code",
   "execution_count": 23,
   "metadata": {},
   "outputs": [],
   "source": [
    "my_digits = []\n",
    "\n",
    "# sample = digits_norm[9]\n",
    "\n",
    "grid_size = 28\n",
    "extent = [0, 1, 0, 1]\n",
    "\n",
    "X = np.meshgrid(np.linspace(extent[0],extent[1],grid_size,dtype=float),\n",
    "                np.linspace(extent[2],extent[3],grid_size,dtype=float), indexing='ij')\n",
    "\n",
    "for digit in digits_norm:\n",
    "    result = downscale(digit, *X)\n",
    "    my_digits.append(result)"
   ]
  },
  {
   "cell_type": "code",
   "execution_count": null,
   "metadata": {},
   "outputs": [],
   "source": []
  }
 ],
 "metadata": {
  "kernelspec": {
   "display_name": "Python 3 (ml4s)",
   "language": "python",
   "name": "ml4s"
  },
  "language_info": {
   "codemirror_mode": {
    "name": "ipython",
    "version": 3
   },
   "file_extension": ".py",
   "mimetype": "text/x-python",
   "name": "python",
   "nbconvert_exporter": "python",
   "pygments_lexer": "ipython3",
   "version": "3.7.9"
  }
 },
 "nbformat": 4,
 "nbformat_minor": 4
}
